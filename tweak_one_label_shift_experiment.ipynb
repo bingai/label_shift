{
 "cells": [
  {
   "cell_type": "code",
   "execution_count": 14,
   "metadata": {},
   "outputs": [],
   "source": [
    "from scipy import stats\n",
    "from statsmodels.distributions.empirical_distribution import ECDF\n",
    "\n",
    "import mxnet as mx\n",
    "import numpy as np\n",
    "from mxnet import nd, autograd, gluon\n",
    "\n",
    "# three customized modules\n",
    "from labelshift import *\n",
    "from utils4gluon import *\n",
    "from data_shift import *\n",
    "from data import *\n",
    "from ls_correction import *\n",
    "np.random.seed(112358)"
   ]
  },
  {
   "cell_type": "markdown",
   "metadata": {},
   "source": [
    "## Experiment 1 -- \"Tweak One\""
   ]
  },
  {
   "cell_type": "code",
   "execution_count": 8,
   "metadata": {},
   "outputs": [
    {
     "name": "stdout",
     "output_type": "stream",
     "text": [
      "Sampling training and validation data from p_P\n",
      "Current p_P:  [0.1, 0.1, 0.1, 0.1, 0.1, 0.1, 0.1, 0.1, 0.1, 0.1]\n",
      "Sampling test data from p_Q\n",
      "Current p_Q:  [ 0.1  0.1  0.1  0.1  0.1  0.1  0.1  0.1  0.1  0.1]\n",
      "Epoch 0. Loss: 1.90003643093, Train_acc 0.33858608742, Validation_acc 0.329191098081\n",
      "Epoch 1. Loss: 1.74921125612, Train_acc 0.378231609808, Validation_acc 0.358375533049\n",
      "Epoch 2. Loss: 1.65126659645, Train_acc 0.406016791045, Validation_acc 0.38049706823\n",
      "Epoch 3. Loss: 1.57881123761, Train_acc 0.428937899787, Validation_acc 0.393290245203\n",
      "Epoch 4. Loss: 1.51999407174, Train_acc 0.45782249467, Validation_acc 0.409881396588\n",
      "[[ 1.17412557  1.02507523]\n",
      " [ 1.08169988  1.06214876]\n",
      " [ 1.10228937  0.97651007]\n",
      " [ 0.39266094  0.97021277]\n",
      " [ 0.85670574  0.98885512]\n",
      " [ 1.50402071  0.98744486]\n",
      " [ 1.14503579  0.95896757]\n",
      " [ 0.93996771  0.97310594]\n",
      " [ 1.0772543   1.04725458]\n",
      " [ 0.7417144   1.01079258]]\n",
      "[[ 0.11706032  0.1022    ]\n",
      " [ 0.1090714   0.1071    ]\n",
      " [ 0.10949408  0.097     ]\n",
      " [ 0.03998597  0.0988    ]\n",
      " [ 0.08455686  0.0976    ]\n",
      " [ 0.14774497  0.097     ]\n",
      " [ 0.11534327  0.0966    ]\n",
      " [ 0.09553205  0.0989    ]\n",
      " [ 0.10790497  0.1049    ]\n",
      " [ 0.07330611  0.0999    ]]\n",
      "||wt - wt_true||^2  = 0.076442679495086652\n",
      "KL(Py_est|| Py_true) = array([ 0.04369819])\n",
      "Accuracy unweighted 0.417496019108\n",
      "Epoch 0. Loss: 1.8589205756, Train_acc 0.3648054371, Validation_acc 0.357009594883\n",
      "Epoch 1. Loss: 1.70611618826, Train_acc 0.407116204691, Validation_acc 0.389059168443\n",
      "Epoch 2. Loss: 1.6197575987, Train_acc 0.431403251599, Validation_acc 0.404984008529\n",
      "Epoch 3. Loss: 1.54682415535, Train_acc 0.457222814499, Validation_acc 0.42140858209\n",
      "Epoch 4. Loss: 1.47596054869, Train_acc 0.467250799574, Validation_acc 0.423374200426\n",
      "Accuracy weighted 0.431827229299\n"
     ]
    },
    {
     "ename": "NameError",
     "evalue": "name 'knockoutlabel' is not defined",
     "output_type": "error",
     "traceback": [
      "\u001b[0;31m---------------------------------------------------------------------------\u001b[0m",
      "\u001b[0;31mNameError\u001b[0m                                 Traceback (most recent call last)",
      "\u001b[0;32m<ipython-input-8-85d011fc1a26>\u001b[0m in \u001b[0;36m<module>\u001b[0;34m()\u001b[0m\n\u001b[1;32m     45\u001b[0m                      epochs=epochs)\n\u001b[1;32m     46\u001b[0m \u001b[0;34m\u001b[0m\u001b[0m\n\u001b[0;32m---> 47\u001b[0;31m \u001b[0mshortname\u001b[0m \u001b[0;34m=\u001b[0m \u001b[0mstr\u001b[0m\u001b[0;34m(\u001b[0m\u001b[0mp\u001b[0m\u001b[0;34m)\u001b[0m \u001b[0;34m+\u001b[0m \u001b[0mstr\u001b[0m\u001b[0;34m(\u001b[0m\u001b[0mknockoutlabel\u001b[0m\u001b[0;34m)\u001b[0m\u001b[0;34m\u001b[0m\u001b[0m\n\u001b[0m\u001b[1;32m     48\u001b[0m \u001b[0mresults_dict\u001b[0m\u001b[0;34m[\u001b[0m\u001b[0;34m\"shortname\"\u001b[0m\u001b[0;34m]\u001b[0m \u001b[0;34m=\u001b[0m \u001b[0mresults\u001b[0m\u001b[0;34m\u001b[0m\u001b[0m\n",
      "\u001b[0;31mNameError\u001b[0m: name 'knockoutlabel' is not defined"
     ]
    }
   ],
   "source": [
    "dataset_name = 'cifar10' # choices: 'mnist', 'cifar10'\n",
    "num_labels = 10\n",
    "results_dict = {}\n",
    "\n",
    "\n",
    "# Tweak train data\n",
    "tweak_train = True # options include \n",
    "p_P = [.1, .1, .1, .1 ,.1 ,.1, .1, .1, .1, .1]\n",
    "\n",
    "# Tweak test data\n",
    "tweak_test = True\n",
    "\n",
    "\n",
    "counter = 0\n",
    "for knockout_label in range(10):\n",
    "    for p in np.arange(0,1.1, .1):\n",
    "        \n",
    "        counter += 1\n",
    "        print(\"Experiment:, \", counter, \"p =\", p, \"knockout_label =\", label)\n",
    "        p_Q = np.full(num_labels, (1.-p)/(num_labels-1))\n",
    "        p_Q[knockout_label] = p\n",
    "\n",
    "        # sample data\n",
    "        num_train_samples = 30000\n",
    "        num_val_samples = 30000\n",
    "        num_test_samples = 10000\n",
    "\n",
    "        # NN config\n",
    "        num_hidden = 256\n",
    "        epochs = 10\n",
    "\n",
    "        #########################################\n",
    "        #  Invoke experiment code\n",
    "        #########################################\n",
    "        results = correction_experiment(dataset_name=dataset_name, tweak_train=tweak_train, \n",
    "                             p_P=p_P, tweak_test=tweak_test, p_Q=p_Q, \n",
    "                             num_train_samples=num_train_samples,\n",
    "                             num_val_samples=num_val_samples,\n",
    "                             num_test_samples=num_test_samples,\n",
    "                             num_hidden=num_hidden, \n",
    "                             epochs=epochs)\n",
    "\n",
    "        print(results)\n",
    "        shortname = str(p) + \"_\" + str(knockout_label)\n",
    "        results_dict[shortname] = results\n",
    "\n",
    "with open(\"correction_results/test.pkl\", \"wb\") as f:\n",
    "    pickle.dump(results, f)"
   ]
  },
  {
   "cell_type": "code",
   "execution_count": 12,
   "metadata": {},
   "outputs": [
    {
     "data": {
      "text/plain": [
       "'0.10'"
      ]
     },
     "execution_count": 12,
     "metadata": {},
     "output_type": "execute_result"
    }
   ],
   "source": [
    "with open f"
   ]
  },
  {
   "cell_type": "code",
   "execution_count": null,
   "metadata": {},
   "outputs": [],
   "source": []
  },
  {
   "cell_type": "code",
   "execution_count": null,
   "metadata": {},
   "outputs": [],
   "source": []
  },
  {
   "cell_type": "code",
   "execution_count": null,
   "metadata": {},
   "outputs": [],
   "source": []
  }
 ],
 "metadata": {
  "kernelspec": {
   "display_name": "Environment (conda_mxnet_p36)",
   "language": "python",
   "name": "conda_mxnet_p36"
  },
  "language_info": {
   "codemirror_mode": {
    "name": "ipython",
    "version": 3
   },
   "file_extension": ".py",
   "mimetype": "text/x-python",
   "name": "python",
   "nbconvert_exporter": "python",
   "pygments_lexer": "ipython3",
   "version": "3.6.3"
  }
 },
 "nbformat": 4,
 "nbformat_minor": 2
}
