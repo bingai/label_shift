{
 "cells": [
  {
   "cell_type": "markdown",
   "metadata": {},
   "source": [
    "## Imports"
   ]
  },
  {
   "cell_type": "code",
   "execution_count": null,
   "metadata": {},
   "outputs": [],
   "source": [
    "from scipy import stats\n",
    "from statsmodels.distributions.empirical_distribution import ECDF\n",
    "\n",
    "import mxnet as mx\n",
    "import numpy as np\n",
    "from mxnet import nd, autograd\n",
    "from mxnet import gluon\n",
    "\n",
    "# two customized modules\n",
    "from labelshift import *\n",
    "from utils4gluon import *\n",
    "from data_shift import *"
   ]
  },
  {
   "cell_type": "markdown",
   "metadata": {},
   "source": [
    "## Configurations"
   ]
  },
  {
   "cell_type": "code",
   "execution_count": null,
   "metadata": {},
   "outputs": [],
   "source": [
    "domain = 'cifar10' # choices: 'mnist', 'cifar10', 'cifar100'\n",
    "\n",
    "# p_P(y)\n",
    "p_P = [.05, .55, .05, .05, .05, .05 , .05, .05, .05, .05]\n",
    "\n",
    "# P_Q(y)\n",
    "p_Q = None"
   ]
  },
  {
   "cell_type": "markdown",
   "metadata": {},
   "source": [
    "## Prepare the data"
   ]
  },
  {
   "cell_type": "code",
   "execution_count": null,
   "metadata": {},
   "outputs": [],
   "source": [
    "\n",
    "ctx = mx.cpu()\n",
    "\n",
    "##################################\n",
    "#  Add some code to make this play well \n",
    "#  with other datasets\n",
    "##################################\n",
    "\n",
    "\n",
    "if domain == \"mnist\":\n",
    "    mnist = mx.test_utils.get_mnist()\n",
    "    num_inputs = 784\n",
    "    num_outputs = 10\n",
    "    dfeat = 784\n",
    "    nclass = 10\n",
    "    dataset = mnist\n",
    "    X = dataset[\"train_data\"]\n",
    "    y = dataset[\"train_label\"]\n",
    "    # lastly get the test set and its corresponding iterator\n",
    "    Xtest = dataset[\"test_data\"]\n",
    "    ytest = dataset[\"test_label\"]\n",
    "    \n",
    "elif domain == \"cifar10\":\n",
    "    num_inputs = 3072\n",
    "    num_outputs = 10\n",
    "    dfeat = 3072\n",
    "    nclass = 10\n",
    "    def transform(data, label):\n",
    "        return nd.transpose(data.astype(np.float32), (2,0,1))/255, label.astype(np.float32)\n",
    "    train_DS = gluon.data.vision.CIFAR10(train=True, transform=transform)\n",
    "    test_DS = gluon.data.vision.CIFAR10(train=False, transform=transform)\n",
    "    \n",
    "    def transform_data(data):\n",
    "        return nd.transpose(data.astype(np.float32), axes=(0,3,1,2))/255\n",
    "\n",
    "    def transform_label(label):\n",
    "        return nd.transpose(label.astype(np.float32))\n",
    "\n",
    "    X = transform_data(train_DS._data).asnumpy()\n",
    "    y = transform_label(nd.array(train_DS._label)).asnumpy()\n",
    "\n",
    "    Xtest = transform_data(test_DS._data).asnumpy()\n",
    "    ytest = transform_label(nd.array(test_DS._label)).asnumpy()\n",
    "    \n",
    "\n",
    "batch_size = 64\n",
    "n = X.shape[0]\n",
    "\n",
    "################################################\n",
    "#  Set the label distribution at train time\n",
    "################################################\n",
    "X, y = tweak_dist(X, y, 10, 100000, Py)\n"
   ]
  },
  {
   "cell_type": "code",
   "execution_count": null,
   "metadata": {},
   "outputs": [],
   "source": [
    "X.shape"
   ]
  },
  {
   "cell_type": "code",
   "execution_count": null,
   "metadata": {},
   "outputs": [],
   "source": []
  },
  {
   "cell_type": "code",
   "execution_count": null,
   "metadata": {},
   "outputs": [],
   "source": []
  },
  {
   "cell_type": "code",
   "execution_count": null,
   "metadata": {},
   "outputs": [],
   "source": []
  },
  {
   "cell_type": "markdown",
   "metadata": {},
   "source": [
    "## Random splits"
   ]
  },
  {
   "cell_type": "code",
   "execution_count": null,
   "metadata": {},
   "outputs": [],
   "source": [
    "n = X.shape[0]\n",
    "\n",
    "# Random permutation of the data\n",
    "rand_idx = np.random.permutation(n)\n",
    "X = X[rand_idx,...]\n",
    "y = y[rand_idx]\n",
    "\n",
    "num = 2\n",
    "\n",
    "Xtrain = X[:(n//num),:,:,:]\n",
    "ytrain = y[:(n//num)]\n",
    "Xval = X[(n//num):(2*n//num),:,:,:]\n",
    "yval = y[(n//num):(2*n//num):]\n",
    "\n",
    "################################################\n",
    "#  Set the label distribution at test time\n",
    "################################################\n",
    "# Xtest, ytest = tweak_dist(X, y, 10, 10000, Py)"
   ]
  },
  {
   "cell_type": "code",
   "execution_count": null,
   "metadata": {},
   "outputs": [],
   "source": [
    "print(nd.one_hot(nd.array(ytrain), 10).sum(axis=0) / len(ytrain))\n",
    "print(nd.one_hot(nd.array(yval), 10).sum(axis=0) / len(yval))\n",
    "print(nd.one_hot(nd.array(ytest), 10).sum(axis=0) / len(ytest))"
   ]
  },
  {
   "cell_type": "code",
   "execution_count": null,
   "metadata": {},
   "outputs": [],
   "source": [
    "Xval.shape"
   ]
  },
  {
   "cell_type": "code",
   "execution_count": null,
   "metadata": {},
   "outputs": [],
   "source": [
    "X.shape"
   ]
  },
  {
   "cell_type": "code",
   "execution_count": null,
   "metadata": {},
   "outputs": [],
   "source": []
  },
  {
   "cell_type": "markdown",
   "metadata": {},
   "source": [
    "##  Train a Classifier"
   ]
  },
  {
   "cell_type": "code",
   "execution_count": null,
   "metadata": {},
   "outputs": [],
   "source": [
    "num_hidden = 256\n",
    "net = gluon.nn.Sequential()\n",
    "with net.name_scope():\n",
    "    net.add(gluon.nn.Dense(num_hidden, activation=\"relu\"))\n",
    "    net.add(gluon.nn.Dense(num_hidden, activation=\"relu\"))\n",
    "    net.add(gluon.nn.Dense(num_outputs))\n",
    "\n",
    "net.collect_params().initialize(mx.init.Xavier(magnitude=2.24), ctx=ctx)\n",
    "softmax_cross_entropy = gluon.loss.SoftmaxCrossEntropyLoss()\n",
    "trainer = gluon.Trainer(net.collect_params(), 'sgd', {'learning_rate': .1})\n",
    "\n",
    "epochs = 5\n",
    "\n",
    "# Training\n",
    "weighted_train(net, softmax_cross_entropy, trainer, Xtrain, ytrain, Xval, yval, ctx, dfeat, epoch=epochs, weightfunc=None)\n",
    "\n",
    "\n",
    "# Prediction\n",
    "ypred_s, ypred_s_soft = predict_all(Xval, net, ctx, dfeat)\n",
    "ypred_t, ypred_t_soft = predict_all(Xtest, net, ctx, dfeat)\n",
    "\n",
    "\n",
    "# Converting to numpy array for later convenience\n",
    "ypred_s= ypred_s.asnumpy()\n",
    "ypred_s_soft = ypred_s_soft.asnumpy()\n",
    "ypred_t=ypred_t.asnumpy()"
   ]
  },
  {
   "cell_type": "markdown",
   "metadata": {},
   "source": [
    "## Estimate Wt and Py"
   ]
  },
  {
   "cell_type": "code",
   "execution_count": null,
   "metadata": {},
   "outputs": [],
   "source": [
    "wt = estimate_labelshift_ratio(yval, ypred_s, ypred_t,num_outputs)\n",
    "\n",
    "Py_est = estimate_target_dist(wt, yval,num_outputs)\n",
    "\n",
    "Py_true =calculate_marginal(ytest,num_outputs)\n",
    "Py_base =calculate_marginal(yval,num_outputs)\n",
    "\n",
    "wt_true = Py_true/Py_base\n",
    "\n",
    "print(np.concatenate((wt,wt_true),axis=1))\n",
    "print(np.concatenate((Py_est,Py_true),axis=1))\n",
    "\n",
    "print(\"||wt - wt_true||^2  = \" + repr(np.sum((wt-wt_true)**2)/np.linalg.norm(wt_true)**2))\n",
    "print(\"KL(Py_est|| Py_true) = \" + repr(stats.entropy(Py_est,Py_base)))"
   ]
  },
  {
   "cell_type": "markdown",
   "metadata": {},
   "source": [
    "## Solve weighted ERM and compare to previously trained models"
   ]
  },
  {
   "cell_type": "code",
   "execution_count": null,
   "metadata": {},
   "outputs": [],
   "source": [
    "data_test = mx.io.NDArrayIter(Xtest, ytest, batch_size, shuffle=False)\n",
    "\n",
    "acc_unweighted =  evaluate_accuracy(data_test, net, ctx, dfeat) # in fact, drawing confusion matrix maybe more informative\n",
    "\n",
    "print(\"Accuracy unweighted\", acc_unweighted)\n",
    "\n",
    "wt_ndarray = nd.array(wt,ctx=ctx)\n",
    "\n",
    "weightfunc = lambda x,y: wt_ndarray[y.asnumpy().astype(int)]\n",
    "\n",
    "# Train a model using the following!\n",
    "net2 = gluon.nn.Sequential()\n",
    "with net2.name_scope():\n",
    "    net2.add(gluon.nn.Dense(num_hidden, activation=\"relu\"))\n",
    "    net2.add(gluon.nn.Dense(num_hidden, activation=\"relu\"))\n",
    "    net2.add(gluon.nn.Dense(num_outputs))\n",
    "\n",
    "net2.collect_params().initialize(mx.init.Xavier(magnitude=2.24), ctx=ctx)\n",
    "trainer2 = gluon.Trainer(net2.collect_params(), 'sgd', {'learning_rate': .1})\n",
    "epochs2 = 5\n",
    "\n",
    "# Training\n",
    "weighted_train(net2, softmax_cross_entropy, trainer2, Xtrain, ytrain, Xval, yval, ctx, dfeat, epoch=epochs2, weightfunc=weightfunc)\n",
    "\n",
    "data_test.reset()\n",
    "acc_weighted = evaluate_accuracy(data_test, net2, ctx, dfeat)\n",
    "\n",
    "print(\"Accuracy weighted\", acc_weighted)"
   ]
  },
  {
   "cell_type": "code",
   "execution_count": null,
   "metadata": {},
   "outputs": [],
   "source": []
  },
  {
   "cell_type": "code",
   "execution_count": null,
   "metadata": {},
   "outputs": [],
   "source": []
  },
  {
   "cell_type": "code",
   "execution_count": null,
   "metadata": {},
   "outputs": [],
   "source": []
  },
  {
   "cell_type": "code",
   "execution_count": null,
   "metadata": {},
   "outputs": [],
   "source": []
  },
  {
   "cell_type": "code",
   "execution_count": null,
   "metadata": {},
   "outputs": [],
   "source": []
  },
  {
   "cell_type": "code",
   "execution_count": null,
   "metadata": {},
   "outputs": [],
   "source": []
  },
  {
   "cell_type": "code",
   "execution_count": null,
   "metadata": {},
   "outputs": [],
   "source": []
  },
  {
   "cell_type": "code",
   "execution_count": null,
   "metadata": {},
   "outputs": [],
   "source": []
  },
  {
   "cell_type": "code",
   "execution_count": null,
   "metadata": {},
   "outputs": [],
   "source": []
  },
  {
   "cell_type": "code",
   "execution_count": null,
   "metadata": {},
   "outputs": [],
   "source": []
  },
  {
   "cell_type": "code",
   "execution_count": null,
   "metadata": {},
   "outputs": [],
   "source": []
  },
  {
   "cell_type": "code",
   "execution_count": null,
   "metadata": {},
   "outputs": [],
   "source": []
  },
  {
   "cell_type": "code",
   "execution_count": null,
   "metadata": {},
   "outputs": [],
   "source": []
  },
  {
   "cell_type": "code",
   "execution_count": null,
   "metadata": {},
   "outputs": [],
   "source": []
  },
  {
   "cell_type": "code",
   "execution_count": null,
   "metadata": {},
   "outputs": [],
   "source": []
  },
  {
   "cell_type": "code",
   "execution_count": null,
   "metadata": {},
   "outputs": [],
   "source": []
  }
 ],
 "metadata": {
  "kernelspec": {
   "display_name": "Environment (conda_mxnet_p36)",
   "language": "python",
   "name": "conda_mxnet_p36"
  },
  "language_info": {
   "codemirror_mode": {
    "name": "ipython",
    "version": 3
   },
   "file_extension": ".py",
   "mimetype": "text/x-python",
   "name": "python",
   "nbconvert_exporter": "python",
   "pygments_lexer": "ipython3",
   "version": "3.6.3"
  }
 },
 "nbformat": 4,
 "nbformat_minor": 2
}
